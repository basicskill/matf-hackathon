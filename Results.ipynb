{
 "cells": [
  {
   "cell_type": "code",
   "execution_count": 18,
   "metadata": {},
   "outputs": [],
   "source": [
    "import pandas as pd\n",
    "import numpy as np\n",
    "import datetime\n",
    "import matplotlib.pyplot as plt\n",
    "from scipy import stats\n",
    "from seaborn import heatmap\n",
    "\n",
    "# Make the graphs a bit prettier, and bigger\n",
    "plt.style.use('ggplot')\n",
    "plt.rcParams['figure.figsize'] = (15, 5)\n",
    "\n",
    "# This is necessary to show lots of columns in pandas 0.12. \n",
    "# Not necessary in pandas 0.13.\n",
    "pd.set_option('display.width', 5000) \n",
    "pd.set_option('display.max_columns', 60)"
   ]
  },
  {
   "cell_type": "markdown",
   "metadata": {},
   "source": [
    "# Weather data"
   ]
  },
  {
   "cell_type": "code",
   "execution_count": 19,
   "metadata": {
    "scrolled": false
   },
   "outputs": [
    {
     "data": {
      "text/html": [
       "<div>\n",
       "<style scoped>\n",
       "    .dataframe tbody tr th:only-of-type {\n",
       "        vertical-align: middle;\n",
       "    }\n",
       "\n",
       "    .dataframe tbody tr th {\n",
       "        vertical-align: top;\n",
       "    }\n",
       "\n",
       "    .dataframe thead th {\n",
       "        text-align: right;\n",
       "    }\n",
       "</style>\n",
       "<table border=\"1\" class=\"dataframe\">\n",
       "  <thead>\n",
       "    <tr style=\"text-align: right;\">\n",
       "      <th></th>\n",
       "      <th>Local time in Belgrade / Nicola Tesla (airport)</th>\n",
       "      <th>T</th>\n",
       "      <th>P0</th>\n",
       "      <th>P</th>\n",
       "      <th>U</th>\n",
       "      <th>DD</th>\n",
       "      <th>Ff</th>\n",
       "      <th>ff10</th>\n",
       "      <th>WW</th>\n",
       "      <th>W'W'</th>\n",
       "      <th>c</th>\n",
       "      <th>VV</th>\n",
       "      <th>Td</th>\n",
       "    </tr>\n",
       "  </thead>\n",
       "  <tbody>\n",
       "    <tr>\n",
       "      <th>0</th>\n",
       "      <td>03.04.2021 16:00</td>\n",
       "      <td>9.0</td>\n",
       "      <td>751.2</td>\n",
       "      <td>760.5</td>\n",
       "      <td>82.0</td>\n",
       "      <td>Wind blowing from the west</td>\n",
       "      <td>6.0</td>\n",
       "      <td>NaN</td>\n",
       "      <td>NaN</td>\n",
       "      <td>NaN</td>\n",
       "      <td>Few clouds (10-30%) 900 m</td>\n",
       "      <td>10.0 and more</td>\n",
       "      <td>6.0</td>\n",
       "    </tr>\n",
       "    <tr>\n",
       "      <th>1</th>\n",
       "      <td>03.04.2021 15:30</td>\n",
       "      <td>9.0</td>\n",
       "      <td>751.2</td>\n",
       "      <td>760.5</td>\n",
       "      <td>82.0</td>\n",
       "      <td>Wind blowing from the west-southwest</td>\n",
       "      <td>5.0</td>\n",
       "      <td>NaN</td>\n",
       "      <td>Light rain</td>\n",
       "      <td>NaN</td>\n",
       "      <td>Broken clouds (60-90%) 900 m</td>\n",
       "      <td>10.0 and more</td>\n",
       "      <td>6.0</td>\n",
       "    </tr>\n",
       "    <tr>\n",
       "      <th>2</th>\n",
       "      <td>03.04.2021 15:00</td>\n",
       "      <td>8.0</td>\n",
       "      <td>751.8</td>\n",
       "      <td>761.2</td>\n",
       "      <td>87.0</td>\n",
       "      <td>Wind blowing from the south-west</td>\n",
       "      <td>3.0</td>\n",
       "      <td>NaN</td>\n",
       "      <td>Light rain</td>\n",
       "      <td>NaN</td>\n",
       "      <td>Few clouds (10-30%) 600 m, broken clouds (60-9...</td>\n",
       "      <td>7</td>\n",
       "      <td>6.0</td>\n",
       "    </tr>\n",
       "    <tr>\n",
       "      <th>3</th>\n",
       "      <td>03.04.2021 14:30</td>\n",
       "      <td>8.0</td>\n",
       "      <td>751.8</td>\n",
       "      <td>761.2</td>\n",
       "      <td>87.0</td>\n",
       "      <td>Wind blowing from the west-southwest</td>\n",
       "      <td>4.0</td>\n",
       "      <td>NaN</td>\n",
       "      <td>Light rain</td>\n",
       "      <td>NaN</td>\n",
       "      <td>Scattered clouds (40-50%) 600 m, broken clouds...</td>\n",
       "      <td>7</td>\n",
       "      <td>6.0</td>\n",
       "    </tr>\n",
       "    <tr>\n",
       "      <th>4</th>\n",
       "      <td>03.04.2021 14:00</td>\n",
       "      <td>8.0</td>\n",
       "      <td>751.8</td>\n",
       "      <td>761.2</td>\n",
       "      <td>87.0</td>\n",
       "      <td>Wind blowing from the west-southwest</td>\n",
       "      <td>5.0</td>\n",
       "      <td>NaN</td>\n",
       "      <td>Light rain</td>\n",
       "      <td>NaN</td>\n",
       "      <td>Scattered clouds (40-50%) 450 m, broken clouds...</td>\n",
       "      <td>6</td>\n",
       "      <td>6.0</td>\n",
       "    </tr>\n",
       "  </tbody>\n",
       "</table>\n",
       "</div>"
      ],
      "text/plain": [
       "  Local time in Belgrade / Nicola Tesla (airport)    T     P0      P     U                                    DD   Ff  ff10          WW W'W'                                                  c             VV   Td\n",
       "0                                03.04.2021 16:00  9.0  751.2  760.5  82.0            Wind blowing from the west  6.0   NaN         NaN  NaN                          Few clouds (10-30%) 900 m  10.0 and more  6.0\n",
       "1                                03.04.2021 15:30  9.0  751.2  760.5  82.0  Wind blowing from the west-southwest  5.0   NaN  Light rain  NaN                       Broken clouds (60-90%) 900 m  10.0 and more  6.0\n",
       "2                                03.04.2021 15:00  8.0  751.8  761.2  87.0      Wind blowing from the south-west  3.0   NaN  Light rain  NaN  Few clouds (10-30%) 600 m, broken clouds (60-9...              7  6.0\n",
       "3                                03.04.2021 14:30  8.0  751.8  761.2  87.0  Wind blowing from the west-southwest  4.0   NaN  Light rain  NaN  Scattered clouds (40-50%) 600 m, broken clouds...              7  6.0\n",
       "4                                03.04.2021 14:00  8.0  751.8  761.2  87.0  Wind blowing from the west-southwest  5.0   NaN  Light rain  NaN  Scattered clouds (40-50%) 450 m, broken clouds...              6  6.0"
      ]
     },
     "execution_count": 19,
     "metadata": {},
     "output_type": "execute_result"
    }
   ],
   "source": [
    "raw_data = pd.read_csv(\"data/LYBE.26.09.2012.03.04.2021.1.0.0.en.utf8.00000000.csv\", sep=\",\", low_memory=True)\n",
    "weather_data = pd.DataFrame()\n",
    "raw_data.head()"
   ]
  },
  {
   "cell_type": "markdown",
   "metadata": {},
   "source": [
    "# Preprocessing"
   ]
  },
  {
   "cell_type": "code",
   "execution_count": 20,
   "metadata": {},
   "outputs": [],
   "source": [
    "def datetime2ymd(in_df, out_df):\n",
    "    out_df[\"year\"]  = in_df[\"DateTime\"].astype(str).str[:4].astype(int)\n",
    "    out_df[\"month\"] = in_df[\"DateTime\"].astype(str).str[5:7].astype(int)\n",
    "    out_df[\"day\"]   = in_df[\"DateTime\"].astype(str).str[8:10].astype(int)\n",
    "    out_df[\"hour\"]  = in_df[\"DateTime\"].astype(str).str[11:13].astype(int)\n",
    "    out_df[\"min\"]   = in_df[\"DateTime\"].astype(str).str[14:].astype(int)\n",
    "    \n",
    "    return out_df\n",
    "\n",
    "def datetime2dmy(in_df, out_df):\n",
    "    out_df[\"year\"]  = in_df[\"DateTime\"].astype(str).str[6:10].astype(int)\n",
    "    out_df[\"month\"] = in_df[\"DateTime\"].astype(str).str[3:5].astype(int)\n",
    "    out_df[\"day\"]   = in_df[\"DateTime\"].astype(str).str[:2].astype(int)\n",
    "    out_df[\"hour\"]  = in_df[\"DateTime\"].astype(str).str[11:13].astype(int)\n",
    "    out_df[\"min\"]   = in_df[\"DateTime\"].astype(str).str[14:].astype(int)\n",
    "    \n",
    "    return out_df"
   ]
  },
  {
   "cell_type": "code",
   "execution_count": 21,
   "metadata": {
    "scrolled": true
   },
   "outputs": [],
   "source": [
    "raw_data[\"DateTime\"] = raw_data[\"Local time in Belgrade / Nicola Tesla (airport)\"]\n",
    "weather_data = datetime2dmy(raw_data, weather_data)"
   ]
  },
  {
   "cell_type": "code",
   "execution_count": 22,
   "metadata": {},
   "outputs": [],
   "source": [
    "copy_columns = [\"T\", \"P0\", \"P\", \"U\", \"Td\"]\n",
    "weather_data[copy_columns] = raw_data[copy_columns]"
   ]
  },
  {
   "cell_type": "code",
   "execution_count": 23,
   "metadata": {},
   "outputs": [],
   "source": [
    "weather_data[\"VV\"] = raw_data[\"VV\"]\n",
    "weather_data.loc[raw_data.VV == \"10.0 and more\", \"VV\"] = 10"
   ]
  },
  {
   "cell_type": "markdown",
   "metadata": {},
   "source": [
    "#### Smaller one-hot"
   ]
  },
  {
   "cell_type": "code",
   "execution_count": 24,
   "metadata": {},
   "outputs": [],
   "source": [
    "ww_data = pd.DataFrame(raw_data.WW.str.lower().str.split(',')).fillna(\"\")\n",
    "\n",
    "weather_data[\"mist\"] = pd.DataFrame([int(\"mist\" in x) for x in ww_data.WW])\n",
    "weather_data[\"rain\"] = pd.DataFrame([int(\"rain\" in x) for x in ww_data.WW])\n",
    "weather_data[\"light_rain\"] = pd.DataFrame([int(\"light rain\" in x) for x in ww_data.WW])\n",
    "weather_data[\"fog\"] = pd.DataFrame([int(\"fog\" in x) for x in ww_data.WW])\n",
    "weather_data[\"heavythunderstorm\"] = pd.DataFrame([int(\"heavy thunderstorm\" in x) for x in ww_data.WW])\n",
    "weather_data[\"snow\"] = pd.DataFrame([int(\"snow\" in x) for x in ww_data.WW])\n",
    "weather_data[\"smoke\"] = pd.DataFrame([int(\"smoke\" in x) for x in ww_data.WW])\n",
    "weather_data[\"thunderstorm\"] = pd.DataFrame([int(\"thunderstorm\" in x) for x in ww_data.WW])\n",
    "weather_data[\"duststorm\"] = pd.DataFrame([int(\"duststorm\" in x) for x in ww_data.WW])"
   ]
  },
  {
   "cell_type": "code",
   "execution_count": 25,
   "metadata": {},
   "outputs": [],
   "source": [
    "weather_data = pd.concat([weather_data, pd.get_dummies(raw_data.DD)], axis=1)"
   ]
  },
  {
   "cell_type": "code",
   "execution_count": 26,
   "metadata": {},
   "outputs": [
    {
     "data": {
      "text/html": [
       "<div>\n",
       "<style scoped>\n",
       "    .dataframe tbody tr th:only-of-type {\n",
       "        vertical-align: middle;\n",
       "    }\n",
       "\n",
       "    .dataframe tbody tr th {\n",
       "        vertical-align: top;\n",
       "    }\n",
       "\n",
       "    .dataframe thead th {\n",
       "        text-align: right;\n",
       "    }\n",
       "</style>\n",
       "<table border=\"1\" class=\"dataframe\">\n",
       "  <thead>\n",
       "    <tr style=\"text-align: right;\">\n",
       "      <th></th>\n",
       "      <th>year</th>\n",
       "      <th>month</th>\n",
       "      <th>day</th>\n",
       "      <th>hour</th>\n",
       "      <th>min</th>\n",
       "      <th>T</th>\n",
       "      <th>P0</th>\n",
       "      <th>P</th>\n",
       "      <th>U</th>\n",
       "      <th>Td</th>\n",
       "      <th>VV</th>\n",
       "      <th>mist</th>\n",
       "      <th>rain</th>\n",
       "      <th>light_rain</th>\n",
       "      <th>fog</th>\n",
       "      <th>heavythunderstorm</th>\n",
       "      <th>snow</th>\n",
       "      <th>smoke</th>\n",
       "      <th>thunderstorm</th>\n",
       "      <th>duststorm</th>\n",
       "      <th>Calm, no wind</th>\n",
       "      <th>Wind blowing from the east</th>\n",
       "      <th>Wind blowing from the east-northeast</th>\n",
       "      <th>Wind blowing from the east-southeast</th>\n",
       "      <th>Wind blowing from the north</th>\n",
       "      <th>Wind blowing from the north-east</th>\n",
       "      <th>Wind blowing from the north-northeast</th>\n",
       "      <th>Wind blowing from the north-northwest</th>\n",
       "      <th>Wind blowing from the north-west</th>\n",
       "      <th>Wind blowing from the south</th>\n",
       "      <th>Wind blowing from the south-east</th>\n",
       "      <th>Wind blowing from the south-southeast</th>\n",
       "      <th>Wind blowing from the south-southwest</th>\n",
       "      <th>Wind blowing from the south-west</th>\n",
       "      <th>Wind blowing from the west</th>\n",
       "      <th>Wind blowing from the west-northwest</th>\n",
       "      <th>Wind blowing from the west-southwest</th>\n",
       "      <th>variable wind direction</th>\n",
       "    </tr>\n",
       "  </thead>\n",
       "  <tbody>\n",
       "    <tr>\n",
       "      <th>0</th>\n",
       "      <td>2021</td>\n",
       "      <td>4</td>\n",
       "      <td>3</td>\n",
       "      <td>16</td>\n",
       "      <td>0</td>\n",
       "      <td>9.0</td>\n",
       "      <td>751.2</td>\n",
       "      <td>760.5</td>\n",
       "      <td>82.0</td>\n",
       "      <td>6.0</td>\n",
       "      <td>10</td>\n",
       "      <td>0</td>\n",
       "      <td>0</td>\n",
       "      <td>0</td>\n",
       "      <td>0</td>\n",
       "      <td>0</td>\n",
       "      <td>0</td>\n",
       "      <td>0</td>\n",
       "      <td>0</td>\n",
       "      <td>0</td>\n",
       "      <td>0</td>\n",
       "      <td>0</td>\n",
       "      <td>0</td>\n",
       "      <td>0</td>\n",
       "      <td>0</td>\n",
       "      <td>0</td>\n",
       "      <td>0</td>\n",
       "      <td>0</td>\n",
       "      <td>0</td>\n",
       "      <td>0</td>\n",
       "      <td>0</td>\n",
       "      <td>0</td>\n",
       "      <td>0</td>\n",
       "      <td>0</td>\n",
       "      <td>1</td>\n",
       "      <td>0</td>\n",
       "      <td>0</td>\n",
       "      <td>0</td>\n",
       "    </tr>\n",
       "    <tr>\n",
       "      <th>1</th>\n",
       "      <td>2021</td>\n",
       "      <td>4</td>\n",
       "      <td>3</td>\n",
       "      <td>15</td>\n",
       "      <td>30</td>\n",
       "      <td>9.0</td>\n",
       "      <td>751.2</td>\n",
       "      <td>760.5</td>\n",
       "      <td>82.0</td>\n",
       "      <td>6.0</td>\n",
       "      <td>10</td>\n",
       "      <td>0</td>\n",
       "      <td>0</td>\n",
       "      <td>1</td>\n",
       "      <td>0</td>\n",
       "      <td>0</td>\n",
       "      <td>0</td>\n",
       "      <td>0</td>\n",
       "      <td>0</td>\n",
       "      <td>0</td>\n",
       "      <td>0</td>\n",
       "      <td>0</td>\n",
       "      <td>0</td>\n",
       "      <td>0</td>\n",
       "      <td>0</td>\n",
       "      <td>0</td>\n",
       "      <td>0</td>\n",
       "      <td>0</td>\n",
       "      <td>0</td>\n",
       "      <td>0</td>\n",
       "      <td>0</td>\n",
       "      <td>0</td>\n",
       "      <td>0</td>\n",
       "      <td>0</td>\n",
       "      <td>0</td>\n",
       "      <td>0</td>\n",
       "      <td>1</td>\n",
       "      <td>0</td>\n",
       "    </tr>\n",
       "    <tr>\n",
       "      <th>2</th>\n",
       "      <td>2021</td>\n",
       "      <td>4</td>\n",
       "      <td>3</td>\n",
       "      <td>15</td>\n",
       "      <td>0</td>\n",
       "      <td>8.0</td>\n",
       "      <td>751.8</td>\n",
       "      <td>761.2</td>\n",
       "      <td>87.0</td>\n",
       "      <td>6.0</td>\n",
       "      <td>7</td>\n",
       "      <td>0</td>\n",
       "      <td>0</td>\n",
       "      <td>1</td>\n",
       "      <td>0</td>\n",
       "      <td>0</td>\n",
       "      <td>0</td>\n",
       "      <td>0</td>\n",
       "      <td>0</td>\n",
       "      <td>0</td>\n",
       "      <td>0</td>\n",
       "      <td>0</td>\n",
       "      <td>0</td>\n",
       "      <td>0</td>\n",
       "      <td>0</td>\n",
       "      <td>0</td>\n",
       "      <td>0</td>\n",
       "      <td>0</td>\n",
       "      <td>0</td>\n",
       "      <td>0</td>\n",
       "      <td>0</td>\n",
       "      <td>0</td>\n",
       "      <td>0</td>\n",
       "      <td>1</td>\n",
       "      <td>0</td>\n",
       "      <td>0</td>\n",
       "      <td>0</td>\n",
       "      <td>0</td>\n",
       "    </tr>\n",
       "    <tr>\n",
       "      <th>3</th>\n",
       "      <td>2021</td>\n",
       "      <td>4</td>\n",
       "      <td>3</td>\n",
       "      <td>14</td>\n",
       "      <td>30</td>\n",
       "      <td>8.0</td>\n",
       "      <td>751.8</td>\n",
       "      <td>761.2</td>\n",
       "      <td>87.0</td>\n",
       "      <td>6.0</td>\n",
       "      <td>7</td>\n",
       "      <td>0</td>\n",
       "      <td>0</td>\n",
       "      <td>1</td>\n",
       "      <td>0</td>\n",
       "      <td>0</td>\n",
       "      <td>0</td>\n",
       "      <td>0</td>\n",
       "      <td>0</td>\n",
       "      <td>0</td>\n",
       "      <td>0</td>\n",
       "      <td>0</td>\n",
       "      <td>0</td>\n",
       "      <td>0</td>\n",
       "      <td>0</td>\n",
       "      <td>0</td>\n",
       "      <td>0</td>\n",
       "      <td>0</td>\n",
       "      <td>0</td>\n",
       "      <td>0</td>\n",
       "      <td>0</td>\n",
       "      <td>0</td>\n",
       "      <td>0</td>\n",
       "      <td>0</td>\n",
       "      <td>0</td>\n",
       "      <td>0</td>\n",
       "      <td>1</td>\n",
       "      <td>0</td>\n",
       "    </tr>\n",
       "    <tr>\n",
       "      <th>4</th>\n",
       "      <td>2021</td>\n",
       "      <td>4</td>\n",
       "      <td>3</td>\n",
       "      <td>14</td>\n",
       "      <td>0</td>\n",
       "      <td>8.0</td>\n",
       "      <td>751.8</td>\n",
       "      <td>761.2</td>\n",
       "      <td>87.0</td>\n",
       "      <td>6.0</td>\n",
       "      <td>6</td>\n",
       "      <td>0</td>\n",
       "      <td>0</td>\n",
       "      <td>1</td>\n",
       "      <td>0</td>\n",
       "      <td>0</td>\n",
       "      <td>0</td>\n",
       "      <td>0</td>\n",
       "      <td>0</td>\n",
       "      <td>0</td>\n",
       "      <td>0</td>\n",
       "      <td>0</td>\n",
       "      <td>0</td>\n",
       "      <td>0</td>\n",
       "      <td>0</td>\n",
       "      <td>0</td>\n",
       "      <td>0</td>\n",
       "      <td>0</td>\n",
       "      <td>0</td>\n",
       "      <td>0</td>\n",
       "      <td>0</td>\n",
       "      <td>0</td>\n",
       "      <td>0</td>\n",
       "      <td>0</td>\n",
       "      <td>0</td>\n",
       "      <td>0</td>\n",
       "      <td>1</td>\n",
       "      <td>0</td>\n",
       "    </tr>\n",
       "    <tr>\n",
       "      <th>...</th>\n",
       "      <td>...</td>\n",
       "      <td>...</td>\n",
       "      <td>...</td>\n",
       "      <td>...</td>\n",
       "      <td>...</td>\n",
       "      <td>...</td>\n",
       "      <td>...</td>\n",
       "      <td>...</td>\n",
       "      <td>...</td>\n",
       "      <td>...</td>\n",
       "      <td>...</td>\n",
       "      <td>...</td>\n",
       "      <td>...</td>\n",
       "      <td>...</td>\n",
       "      <td>...</td>\n",
       "      <td>...</td>\n",
       "      <td>...</td>\n",
       "      <td>...</td>\n",
       "      <td>...</td>\n",
       "      <td>...</td>\n",
       "      <td>...</td>\n",
       "      <td>...</td>\n",
       "      <td>...</td>\n",
       "      <td>...</td>\n",
       "      <td>...</td>\n",
       "      <td>...</td>\n",
       "      <td>...</td>\n",
       "      <td>...</td>\n",
       "      <td>...</td>\n",
       "      <td>...</td>\n",
       "      <td>...</td>\n",
       "      <td>...</td>\n",
       "      <td>...</td>\n",
       "      <td>...</td>\n",
       "      <td>...</td>\n",
       "      <td>...</td>\n",
       "      <td>...</td>\n",
       "      <td>...</td>\n",
       "    </tr>\n",
       "    <tr>\n",
       "      <th>136804</th>\n",
       "      <td>2012</td>\n",
       "      <td>9</td>\n",
       "      <td>26</td>\n",
       "      <td>13</td>\n",
       "      <td>0</td>\n",
       "      <td>29.0</td>\n",
       "      <td>751.8</td>\n",
       "      <td>760.5</td>\n",
       "      <td>33.0</td>\n",
       "      <td>11.0</td>\n",
       "      <td>10</td>\n",
       "      <td>0</td>\n",
       "      <td>0</td>\n",
       "      <td>0</td>\n",
       "      <td>0</td>\n",
       "      <td>0</td>\n",
       "      <td>0</td>\n",
       "      <td>0</td>\n",
       "      <td>0</td>\n",
       "      <td>0</td>\n",
       "      <td>0</td>\n",
       "      <td>0</td>\n",
       "      <td>0</td>\n",
       "      <td>0</td>\n",
       "      <td>0</td>\n",
       "      <td>0</td>\n",
       "      <td>0</td>\n",
       "      <td>0</td>\n",
       "      <td>0</td>\n",
       "      <td>1</td>\n",
       "      <td>0</td>\n",
       "      <td>0</td>\n",
       "      <td>0</td>\n",
       "      <td>0</td>\n",
       "      <td>0</td>\n",
       "      <td>0</td>\n",
       "      <td>0</td>\n",
       "      <td>0</td>\n",
       "    </tr>\n",
       "    <tr>\n",
       "      <th>136805</th>\n",
       "      <td>2012</td>\n",
       "      <td>9</td>\n",
       "      <td>26</td>\n",
       "      <td>12</td>\n",
       "      <td>0</td>\n",
       "      <td>28.0</td>\n",
       "      <td>751.8</td>\n",
       "      <td>760.5</td>\n",
       "      <td>35.0</td>\n",
       "      <td>11.0</td>\n",
       "      <td>10</td>\n",
       "      <td>0</td>\n",
       "      <td>0</td>\n",
       "      <td>0</td>\n",
       "      <td>0</td>\n",
       "      <td>0</td>\n",
       "      <td>0</td>\n",
       "      <td>0</td>\n",
       "      <td>0</td>\n",
       "      <td>0</td>\n",
       "      <td>0</td>\n",
       "      <td>0</td>\n",
       "      <td>0</td>\n",
       "      <td>0</td>\n",
       "      <td>0</td>\n",
       "      <td>0</td>\n",
       "      <td>0</td>\n",
       "      <td>0</td>\n",
       "      <td>0</td>\n",
       "      <td>0</td>\n",
       "      <td>0</td>\n",
       "      <td>0</td>\n",
       "      <td>0</td>\n",
       "      <td>1</td>\n",
       "      <td>0</td>\n",
       "      <td>0</td>\n",
       "      <td>0</td>\n",
       "      <td>0</td>\n",
       "    </tr>\n",
       "    <tr>\n",
       "      <th>136806</th>\n",
       "      <td>2012</td>\n",
       "      <td>9</td>\n",
       "      <td>26</td>\n",
       "      <td>11</td>\n",
       "      <td>0</td>\n",
       "      <td>26.0</td>\n",
       "      <td>751.7</td>\n",
       "      <td>760.5</td>\n",
       "      <td>39.0</td>\n",
       "      <td>11.0</td>\n",
       "      <td>10</td>\n",
       "      <td>0</td>\n",
       "      <td>0</td>\n",
       "      <td>0</td>\n",
       "      <td>0</td>\n",
       "      <td>0</td>\n",
       "      <td>0</td>\n",
       "      <td>0</td>\n",
       "      <td>0</td>\n",
       "      <td>0</td>\n",
       "      <td>0</td>\n",
       "      <td>0</td>\n",
       "      <td>0</td>\n",
       "      <td>0</td>\n",
       "      <td>0</td>\n",
       "      <td>0</td>\n",
       "      <td>0</td>\n",
       "      <td>0</td>\n",
       "      <td>0</td>\n",
       "      <td>0</td>\n",
       "      <td>0</td>\n",
       "      <td>0</td>\n",
       "      <td>1</td>\n",
       "      <td>0</td>\n",
       "      <td>0</td>\n",
       "      <td>0</td>\n",
       "      <td>0</td>\n",
       "      <td>0</td>\n",
       "    </tr>\n",
       "    <tr>\n",
       "      <th>136807</th>\n",
       "      <td>2012</td>\n",
       "      <td>9</td>\n",
       "      <td>26</td>\n",
       "      <td>10</td>\n",
       "      <td>0</td>\n",
       "      <td>24.0</td>\n",
       "      <td>751.6</td>\n",
       "      <td>760.5</td>\n",
       "      <td>50.0</td>\n",
       "      <td>13.0</td>\n",
       "      <td>10</td>\n",
       "      <td>0</td>\n",
       "      <td>0</td>\n",
       "      <td>0</td>\n",
       "      <td>0</td>\n",
       "      <td>0</td>\n",
       "      <td>0</td>\n",
       "      <td>0</td>\n",
       "      <td>0</td>\n",
       "      <td>0</td>\n",
       "      <td>0</td>\n",
       "      <td>0</td>\n",
       "      <td>0</td>\n",
       "      <td>0</td>\n",
       "      <td>0</td>\n",
       "      <td>0</td>\n",
       "      <td>0</td>\n",
       "      <td>0</td>\n",
       "      <td>0</td>\n",
       "      <td>0</td>\n",
       "      <td>0</td>\n",
       "      <td>0</td>\n",
       "      <td>1</td>\n",
       "      <td>0</td>\n",
       "      <td>0</td>\n",
       "      <td>0</td>\n",
       "      <td>0</td>\n",
       "      <td>0</td>\n",
       "    </tr>\n",
       "    <tr>\n",
       "      <th>136808</th>\n",
       "      <td>2012</td>\n",
       "      <td>9</td>\n",
       "      <td>26</td>\n",
       "      <td>9</td>\n",
       "      <td>0</td>\n",
       "      <td>21.0</td>\n",
       "      <td>751.5</td>\n",
       "      <td>760.5</td>\n",
       "      <td>60.0</td>\n",
       "      <td>13.0</td>\n",
       "      <td>10</td>\n",
       "      <td>0</td>\n",
       "      <td>0</td>\n",
       "      <td>0</td>\n",
       "      <td>0</td>\n",
       "      <td>0</td>\n",
       "      <td>0</td>\n",
       "      <td>0</td>\n",
       "      <td>0</td>\n",
       "      <td>0</td>\n",
       "      <td>0</td>\n",
       "      <td>0</td>\n",
       "      <td>0</td>\n",
       "      <td>0</td>\n",
       "      <td>0</td>\n",
       "      <td>0</td>\n",
       "      <td>0</td>\n",
       "      <td>0</td>\n",
       "      <td>0</td>\n",
       "      <td>0</td>\n",
       "      <td>0</td>\n",
       "      <td>0</td>\n",
       "      <td>0</td>\n",
       "      <td>0</td>\n",
       "      <td>0</td>\n",
       "      <td>0</td>\n",
       "      <td>1</td>\n",
       "      <td>0</td>\n",
       "    </tr>\n",
       "  </tbody>\n",
       "</table>\n",
       "<p>136809 rows × 38 columns</p>\n",
       "</div>"
      ],
      "text/plain": [
       "        year  month  day  hour  min     T     P0      P     U    Td  VV  mist  rain  light_rain  fog  heavythunderstorm  snow  smoke  thunderstorm  duststorm  Calm, no wind  Wind blowing from the east  Wind blowing from the east-northeast  Wind blowing from the east-southeast  Wind blowing from the north  Wind blowing from the north-east  Wind blowing from the north-northeast  Wind blowing from the north-northwest  Wind blowing from the north-west  Wind blowing from the south  Wind blowing from the south-east  Wind blowing from the south-southeast  Wind blowing from the south-southwest  Wind blowing from the south-west  Wind blowing from the west  Wind blowing from the west-northwest  Wind blowing from the west-southwest  variable wind direction\n",
       "0       2021      4    3    16    0   9.0  751.2  760.5  82.0   6.0  10     0     0           0    0                  0     0      0             0          0              0                           0                                     0                                     0                            0                                 0                                      0                                      0                                 0                            0                                 0                                      0                                      0                                 0                           1                                     0                                     0                        0\n",
       "1       2021      4    3    15   30   9.0  751.2  760.5  82.0   6.0  10     0     0           1    0                  0     0      0             0          0              0                           0                                     0                                     0                            0                                 0                                      0                                      0                                 0                            0                                 0                                      0                                      0                                 0                           0                                     0                                     1                        0\n",
       "2       2021      4    3    15    0   8.0  751.8  761.2  87.0   6.0   7     0     0           1    0                  0     0      0             0          0              0                           0                                     0                                     0                            0                                 0                                      0                                      0                                 0                            0                                 0                                      0                                      0                                 1                           0                                     0                                     0                        0\n",
       "3       2021      4    3    14   30   8.0  751.8  761.2  87.0   6.0   7     0     0           1    0                  0     0      0             0          0              0                           0                                     0                                     0                            0                                 0                                      0                                      0                                 0                            0                                 0                                      0                                      0                                 0                           0                                     0                                     1                        0\n",
       "4       2021      4    3    14    0   8.0  751.8  761.2  87.0   6.0   6     0     0           1    0                  0     0      0             0          0              0                           0                                     0                                     0                            0                                 0                                      0                                      0                                 0                            0                                 0                                      0                                      0                                 0                           0                                     0                                     1                        0\n",
       "...      ...    ...  ...   ...  ...   ...    ...    ...   ...   ...  ..   ...   ...         ...  ...                ...   ...    ...           ...        ...            ...                         ...                                   ...                                   ...                          ...                               ...                                    ...                                    ...                               ...                          ...                               ...                                    ...                                    ...                               ...                         ...                                   ...                                   ...                      ...\n",
       "136804  2012      9   26    13    0  29.0  751.8  760.5  33.0  11.0  10     0     0           0    0                  0     0      0             0          0              0                           0                                     0                                     0                            0                                 0                                      0                                      0                                 0                            1                                 0                                      0                                      0                                 0                           0                                     0                                     0                        0\n",
       "136805  2012      9   26    12    0  28.0  751.8  760.5  35.0  11.0  10     0     0           0    0                  0     0      0             0          0              0                           0                                     0                                     0                            0                                 0                                      0                                      0                                 0                            0                                 0                                      0                                      0                                 1                           0                                     0                                     0                        0\n",
       "136806  2012      9   26    11    0  26.0  751.7  760.5  39.0  11.0  10     0     0           0    0                  0     0      0             0          0              0                           0                                     0                                     0                            0                                 0                                      0                                      0                                 0                            0                                 0                                      0                                      1                                 0                           0                                     0                                     0                        0\n",
       "136807  2012      9   26    10    0  24.0  751.6  760.5  50.0  13.0  10     0     0           0    0                  0     0      0             0          0              0                           0                                     0                                     0                            0                                 0                                      0                                      0                                 0                            0                                 0                                      0                                      1                                 0                           0                                     0                                     0                        0\n",
       "136808  2012      9   26     9    0  21.0  751.5  760.5  60.0  13.0  10     0     0           0    0                  0     0      0             0          0              0                           0                                     0                                     0                            0                                 0                                      0                                      0                                 0                            0                                 0                                      0                                      0                                 0                           0                                     0                                     1                        0\n",
       "\n",
       "[136809 rows x 38 columns]"
      ]
     },
     "execution_count": 26,
     "metadata": {},
     "output_type": "execute_result"
    }
   ],
   "source": [
    "weather_data"
   ]
  },
  {
   "cell_type": "markdown",
   "metadata": {},
   "source": [
    "## Load Target Data"
   ]
  },
  {
   "cell_type": "code",
   "execution_count": 27,
   "metadata": {
    "scrolled": true
   },
   "outputs": [
    {
     "data": {
      "text/html": [
       "<div>\n",
       "<style scoped>\n",
       "    .dataframe tbody tr th:only-of-type {\n",
       "        vertical-align: middle;\n",
       "    }\n",
       "\n",
       "    .dataframe tbody tr th {\n",
       "        vertical-align: top;\n",
       "    }\n",
       "\n",
       "    .dataframe thead th {\n",
       "        text-align: right;\n",
       "    }\n",
       "</style>\n",
       "<table border=\"1\" class=\"dataframe\">\n",
       "  <thead>\n",
       "    <tr style=\"text-align: right;\">\n",
       "      <th></th>\n",
       "      <th>year</th>\n",
       "      <th>month</th>\n",
       "      <th>day</th>\n",
       "      <th>hour</th>\n",
       "      <th>min</th>\n",
       "      <th>B</th>\n",
       "      <th>CO</th>\n",
       "      <th>NO2</th>\n",
       "      <th>O3</th>\n",
       "      <th>PM10</th>\n",
       "      <th>PM25</th>\n",
       "      <th>SO2</th>\n",
       "    </tr>\n",
       "  </thead>\n",
       "  <tbody>\n",
       "    <tr>\n",
       "      <th>23026</th>\n",
       "      <td>2009</td>\n",
       "      <td>11</td>\n",
       "      <td>17</td>\n",
       "      <td>20</td>\n",
       "      <td>0</td>\n",
       "      <td>NaN</td>\n",
       "      <td>NaN</td>\n",
       "      <td>NaN</td>\n",
       "      <td>NaN</td>\n",
       "      <td>NaN</td>\n",
       "      <td>54.221211</td>\n",
       "      <td>NaN</td>\n",
       "    </tr>\n",
       "    <tr>\n",
       "      <th>28045</th>\n",
       "      <td>2009</td>\n",
       "      <td>11</td>\n",
       "      <td>17</td>\n",
       "      <td>21</td>\n",
       "      <td>0</td>\n",
       "      <td>NaN</td>\n",
       "      <td>NaN</td>\n",
       "      <td>NaN</td>\n",
       "      <td>NaN</td>\n",
       "      <td>NaN</td>\n",
       "      <td>61.848214</td>\n",
       "      <td>NaN</td>\n",
       "    </tr>\n",
       "    <tr>\n",
       "      <th>52868</th>\n",
       "      <td>2009</td>\n",
       "      <td>11</td>\n",
       "      <td>17</td>\n",
       "      <td>22</td>\n",
       "      <td>0</td>\n",
       "      <td>NaN</td>\n",
       "      <td>NaN</td>\n",
       "      <td>NaN</td>\n",
       "      <td>NaN</td>\n",
       "      <td>NaN</td>\n",
       "      <td>47.386997</td>\n",
       "      <td>NaN</td>\n",
       "    </tr>\n",
       "    <tr>\n",
       "      <th>68772</th>\n",
       "      <td>2009</td>\n",
       "      <td>11</td>\n",
       "      <td>17</td>\n",
       "      <td>23</td>\n",
       "      <td>0</td>\n",
       "      <td>NaN</td>\n",
       "      <td>NaN</td>\n",
       "      <td>NaN</td>\n",
       "      <td>NaN</td>\n",
       "      <td>NaN</td>\n",
       "      <td>42.317648</td>\n",
       "      <td>NaN</td>\n",
       "    </tr>\n",
       "    <tr>\n",
       "      <th>41525</th>\n",
       "      <td>2009</td>\n",
       "      <td>11</td>\n",
       "      <td>18</td>\n",
       "      <td>0</td>\n",
       "      <td>0</td>\n",
       "      <td>NaN</td>\n",
       "      <td>NaN</td>\n",
       "      <td>NaN</td>\n",
       "      <td>NaN</td>\n",
       "      <td>NaN</td>\n",
       "      <td>41.457331</td>\n",
       "      <td>NaN</td>\n",
       "    </tr>\n",
       "  </tbody>\n",
       "</table>\n",
       "</div>"
      ],
      "text/plain": [
       "       year  month  day  hour  min   B  CO  NO2  O3  PM10       PM25  SO2\n",
       "23026  2009     11   17    20    0 NaN NaN  NaN NaN   NaN  54.221211  NaN\n",
       "28045  2009     11   17    21    0 NaN NaN  NaN NaN   NaN  61.848214  NaN\n",
       "52868  2009     11   17    22    0 NaN NaN  NaN NaN   NaN  47.386997  NaN\n",
       "68772  2009     11   17    23    0 NaN NaN  NaN NaN   NaN  42.317648  NaN\n",
       "41525  2009     11   18     0    0 NaN NaN  NaN NaN   NaN  41.457331  NaN"
      ]
     },
     "execution_count": 27,
     "metadata": {},
     "output_type": "execute_result"
    }
   ],
   "source": [
    "target_df = pd.read_csv(\"data/MATF_Hackathon_2021/SviPodaci_mStanica_BeogradNBG.csv\")\n",
    "clean_target = pd.DataFrame()\n",
    "\n",
    "target_df = target_df.rename(columns={\"Datum_i_Vreme\": \"DateTime\"})\n",
    "\n",
    "clean_target = datetime2ymd(target_df, clean_target)\n",
    "copy_columns = [\"B\", \"CO\", \"NO2\", \"O3\", \"PM10\", \"PM25\", \"SO2\"]\n",
    "\n",
    "clean_target[copy_columns] = target_df[copy_columns]\n",
    "clean_target = clean_target.sort_values(by=[\"year\", \"month\", \"day\", \"hour\", \"min\"])\n",
    "\n",
    "clean_target.head()"
   ]
  },
  {
   "cell_type": "code",
   "execution_count": 28,
   "metadata": {},
   "outputs": [],
   "source": [
    "final_data = weather_data.merge(clean_target)"
   ]
  },
  {
   "cell_type": "code",
   "execution_count": 29,
   "metadata": {
    "scrolled": true
   },
   "outputs": [],
   "source": [
    "final_data.to_csv('data/training_test_data.csv')"
   ]
  },
  {
   "cell_type": "markdown",
   "metadata": {},
   "source": [
    "## Data ploting"
   ]
  },
  {
   "cell_type": "markdown",
   "metadata": {},
   "source": [
    "#### By Hour"
   ]
  },
  {
   "cell_type": "code",
   "execution_count": 43,
   "metadata": {
    "scrolled": false
   },
   "outputs": [
    {
     "data": {
      "text/plain": [
       "Text(0, 0.5, 'SO2 concentration')"
      ]
     },
     "execution_count": 43,
     "metadata": {},
     "output_type": "execute_result"
    },
    {
     "data": {
      "image/png": "[encoded data removed]",
      "text/plain": [
       "<Figure size 1080x360 with 1 Axes>"
      ]
     },
     "metadata": {},
     "output_type": "display_data"
    }
   ],
   "source": [
    "month = clean_target.loc[\n",
    "    (clean_target[\"year\"].isin([2012, 2013, 2014, 2015, 2016, 2017, 2018, 2019, 2020])) &\n",
    "    (clean_target[\"month\"].isin([10, 11, 12, 1, 2]))\n",
    "]\n",
    "\n",
    "polution_by_hour = []\n",
    "std_by_hour = []\n",
    "for hour in range(24):\n",
    "    polution_by_hour.append(month.loc[month[\"hour\"] == hour].mean()[\"SO2\"])\n",
    "    std_by_hour.append(month.loc[month[\"hour\"] == hour].std()[\"SO2\"])\n",
    "    \n",
    "plt.errorbar(list(range(24)), polution_by_hour, std_by_hour, linestyle=\"--\")\n",
    "plt.xlabel(\"Hour\")\n",
    "plt.ylabel(\"SO2 concentration\")"
   ]
  },
  {
   "cell_type": "markdown",
   "metadata": {},
   "source": [
    "#### By Month"
   ]
  },
  {
   "cell_type": "code",
   "execution_count": 42,
   "metadata": {
    "scrolled": false
   },
   "outputs": [
    {
     "data": {
      "text/plain": [
       "Text(0, 0.5, 'SO2 concentration')"
      ]
     },
     "execution_count": 42,
     "metadata": {},
     "output_type": "execute_result"
    },
    {
     "data": {
      "image/png": "[encoded data removed]",
      "text/plain": [
       "<Figure size 1080x360 with 1 Axes>"
      ]
     },
     "metadata": {},
     "output_type": "display_data"
    }
   ],
   "source": [
    "years = clean_target.loc[\n",
    "    (clean_target[\"year\"].isin([2012, 2013, 2014, 2015, 2016, 2017, 2018, 2019, 2020, 2021]))\n",
    "]\n",
    "\n",
    "polution_by_month = []\n",
    "std_by_month = []\n",
    "for mth in range(1, 13):\n",
    "    polution_by_month.append(years.loc[years[\"month\"] == mth].mean()[\"SO2\"])\n",
    "    std_by_month.append(years.loc[years[\"month\"] == mth].std()[\"SO2\"])\n",
    "    \n",
    "plt.errorbar(list(range(1, 13)), polution_by_month, std_by_month, linestyle=\"--\")\n",
    "plt.xlabel(\"Month\")\n",
    "plt.ylabel(\"SO2 concentration\")"
   ]
  },
  {
   "cell_type": "markdown",
   "metadata": {},
   "source": [
    "### Corelation"
   ]
  },
  {
   "cell_type": "code",
   "execution_count": 32,
   "metadata": {
    "scrolled": true
   },
   "outputs": [
    {
     "data": {
      "text/plain": [
       "<AxesSubplot:>"
      ]
     },
     "execution_count": 32,
     "metadata": {},
     "output_type": "execute_result"
    },
    {
     "data": {
      "image/png": "[encoded data removed]",
      "text/plain": [
       "<Figure size 1080x360 with 2 Axes>"
      ]
     },
     "metadata": {},
     "output_type": "display_data"
    }
   ],
   "source": [
    "data_of_interest = final_data[[\"month\", \"hour\", \"T\", \"P\", \"P0\", \"VV\", \"CO\", \"NO2\", \"O3\", \"PM10\", \"PM25\", \"SO2\"]]\n",
    "heatmap(data_of_interest.corr())"
   ]
  },
  {
   "cell_type": "code",
   "execution_count": 33,
   "metadata": {},
   "outputs": [],
   "source": [
    "data_of_interest.corr().to_csv('data/correlations.csv')"
   ]
  },
  {
   "cell_type": "markdown",
   "metadata": {},
   "source": [
    "## AQI"
   ]
  },
  {
   "cell_type": "code",
   "execution_count": 34,
   "metadata": {},
   "outputs": [],
   "source": [
    "def calculate_aqi(data):\n",
    "    \n",
    "    boundaries = {\n",
    "    \"PM10\" : [0, 50, 100, 250, 350, 430],\n",
    "    \"PM25\" : [0, 30, 60, 90, 120, 250],\n",
    "    \"NO2\" : [0, 40, 80, 180, 280, 400],\n",
    "    \"O3\" : [0, 50, 100, 168, 208, 748],\n",
    "    \"CO\" : [0, 1, 2, 10, 17, 34],\n",
    "    \"SO2\" : [0, 40, 80, 380, 800, 1600],\n",
    "    \"AQI\" : [0, 50, 100, 200, 300, 400, 500]\n",
    "    }\n",
    "\n",
    "    pollusions = [\"CO\", \"NO2\", \"O3\", \"PM10\", \"PM25\", \"SO2\"]\n",
    "\n",
    "    aqi_max = 0\n",
    "    for pol in pollusions:\n",
    "        j = len(boundaries[pol])-1\n",
    "        if data[pol] == -1:\n",
    "            continue\n",
    "        while data[pol] < boundaries[pol][j]:\n",
    "            j-=1\n",
    "        low_index = j\n",
    "        high_index = j+1\n",
    "        if high_index < len(boundaries[pol]):\n",
    "            delta_boundaries = boundaries[pol][high_index] - boundaries[pol][low_index]\n",
    "        else:\n",
    "            delta_boundaries = boundaries[pol][low_index] - boundaries[pol][low_index-1]\n",
    "        aqi = ((boundaries[\"AQI\"][high_index] - boundaries[\"AQI\"][low_index]) / \\\n",
    "                 delta_boundaries) * \\\n",
    "                (data[pol] - boundaries[pol][low_index]) + boundaries[\"AQI\"][low_index]\n",
    "        if aqi > aqi_max:\n",
    "            aqi_max = aqi\n",
    "    return aqi_max"
   ]
  },
  {
   "cell_type": "code",
   "execution_count": 35,
   "metadata": {},
   "outputs": [],
   "source": [
    "df = pd.read_csv('data/training_test_data.csv')"
   ]
  },
  {
   "cell_type": "markdown",
   "metadata": {},
   "source": [
    "#### By Day"
   ]
  },
  {
   "cell_type": "code",
   "execution_count": 36,
   "metadata": {},
   "outputs": [],
   "source": [
    "daily_pred = pd.DataFrame()\n",
    "daily_pred = df.loc[(df[\"year\"] == 2021) & (df[\"month\"] == 2) & (df[\"day\"] == 10),\n",
    "                    [\"hour\", \"B\", \"CO\", \"NO2\", \"O3\", \"PM10\", \"PM25\", \"SO2\"]]\n",
    "daily_pred = pd.DataFrame(daily_pred)\n",
    "aqi = pd.DataFrame({'AQI': [calculate_aqi(daily_pred.iloc[i]) for i in range(daily_pred.shape[0])]})\n",
    "daily_pred[\"AQI\"] = aqi[\"AQI\"].values"
   ]
  },
  {
   "cell_type": "code",
   "execution_count": 37,
   "metadata": {},
   "outputs": [],
   "source": [
    "daily_pred.to_csv('data/website_daily.csv')"
   ]
  },
  {
   "cell_type": "markdown",
   "metadata": {},
   "source": [
    "#### By Month"
   ]
  },
  {
   "cell_type": "code",
   "execution_count": 38,
   "metadata": {},
   "outputs": [
    {
     "data": {
      "text/plain": [
       "[<matplotlib.lines.Line2D at 0x7f5f84b2eac0>]"
      ]
     },
     "execution_count": 38,
     "metadata": {},
     "output_type": "execute_result"
    },
    {
     "data": {
      "image/png": "[encoded data removed]",
      "text/plain": [
       "<Figure size 1080x360 with 1 Axes>"
      ]
     },
     "metadata": {},
     "output_type": "display_data"
    }
   ],
   "source": [
    "monthly_obs = pd.DataFrame()\n",
    "monthly_obs = df.loc[(df[\"year\"] == 2021) & (df[\"month\"] == 2),\n",
    "                    [\"day\", \"B\", \"CO\", \"NO2\", \"O3\", \"PM10\", \"PM25\", \"SO2\"]]\n",
    "\n",
    "monthly_obs = monthly_obs.groupby('day').mean()\n",
    "\n",
    "aqi = pd.DataFrame({'AQI': [calculate_aqi(monthly_obs.iloc[i]) for i in range(monthly_obs.shape[0])]})\n",
    "monthly_obs[\"AQI\"] = aqi[\"AQI\"].values\n",
    "\n",
    "plt.plot(monthly_obs[\"AQI\"])"
   ]
  },
  {
   "cell_type": "code",
   "execution_count": 39,
   "metadata": {},
   "outputs": [],
   "source": [
    "monthly_obs.to_csv('data/website_monthly.csv')"
   ]
  },
  {
   "cell_type": "markdown",
   "metadata": {},
   "source": [
    "#### By Year"
   ]
  },
  {
   "cell_type": "code",
   "execution_count": 40,
   "metadata": {},
   "outputs": [
    {
     "data": {
      "text/plain": [
       "[<matplotlib.lines.Line2D at 0x7f5f84bb3b20>]"
      ]
     },
     "execution_count": 40,
     "metadata": {},
     "output_type": "execute_result"
    },
    {
     "data": {
      "image/png": "[encoded data removed]",
      "text/plain": [
       "<Figure size 1080x360 with 1 Axes>"
      ]
     },
     "metadata": {},
     "output_type": "display_data"
    }
   ],
   "source": [
    "year_obs = pd.DataFrame()\n",
    "year_obs = df.loc[(df[\"year\"] == 2019),\n",
    "                    [\"month\", \"B\", \"CO\", \"NO2\", \"O3\", \"PM10\", \"PM25\", \"SO2\"]]\n",
    "\n",
    "year_obs = year_obs.groupby('month').mean()\n",
    "\n",
    "aqi = pd.DataFrame({'AQI': [calculate_aqi(year_obs.iloc[i]) for i in range(year_obs.shape[0])]})\n",
    "year_obs[\"AQI\"] = aqi[\"AQI\"].values\n",
    "\n",
    "\n",
    "plt.plot(year_obs[\"CO\"])"
   ]
  },
  {
   "cell_type": "code",
   "execution_count": 41,
   "metadata": {},
   "outputs": [],
   "source": [
    "year_obs.to_csv('data/website_yearly.csv')"
   ]
  },
  {
   "cell_type": "markdown",
   "metadata": {},
   "source": [
    "# Model and Training\n",
    "\n",
    "- Model is a combination of autoencoder and FC layer\n",
    "- Model definitions and train functions are in DAE/ and MainModel/\n",
    "- Down are training resaults"
   ]
  },
  {
   "cell_type": "code",
   "execution_count": 44,
   "metadata": {
    "scrolled": true
   },
   "outputs": [
    {
     "data": {
      "text/plain": [
       "Text(0, 0.5, 'Validation Loss')"
      ]
     },
     "execution_count": 44,
     "metadata": {},
     "output_type": "execute_result"
    },
    {
     "data": {
      "image/png": "[encoded data removed]",
      "text/plain": [
       "<Figure size 1080x360 with 1 Axes>"
      ]
     },
     "metadata": {},
     "output_type": "display_data"
    }
   ],
   "source": [
    "valid = np.loadtxt('training_results/valid.txt')\n",
    "\n",
    "plt.plot(valid)\n",
    "plt.xlabel(\"Epoch\")\n",
    "plt.ylabel(\"Validation Loss\")"
   ]
  },
  {
   "cell_type": "code",
   "execution_count": 45,
   "metadata": {},
   "outputs": [
    {
     "data": {
      "text/plain": [
       "<matplotlib.legend.Legend at 0x7f5f868e1ee0>"
      ]
     },
     "execution_count": 45,
     "metadata": {},
     "output_type": "execute_result"
    },
    {
     "data": {
      "image/png": "[encoded data removed]",
      "text/plain": [
       "<Figure size 1080x360 with 1 Axes>"
      ]
     },
     "metadata": {},
     "output_type": "display_data"
    }
   ],
   "source": [
    "pred = np.loadtxt('training_results/preds.txt')\n",
    "gt = np.loadtxt('training_results/targets.txt')\n",
    "\n",
    "plt.plot(pred, label = \"Predcitions\")\n",
    "plt.plot(gt, label = \"Ground Truth\")\n",
    "plt.xlabel(\"Sample\")\n",
    "plt.ylabel(\"Normalized CO Concentration\")\n",
    "plt.legend()"
   ]
  }
 ],
 "metadata": {
  "kernelspec": {
   "display_name": "Python 3",
   "language": "python",
   "name": "python3"
  },
  "language_info": {
   "codemirror_mode": {
    "name": "ipython",
    "version": 3
   },
   "file_extension": ".py",
   "mimetype": "text/x-python",
   "name": "python",
   "nbconvert_exporter": "python",
   "pygments_lexer": "ipython3",
   "version": "3.8.5"
  }
 },
 "nbformat": 4,
 "nbformat_minor": 4
}
