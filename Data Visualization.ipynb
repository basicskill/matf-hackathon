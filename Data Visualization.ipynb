{
 "cells": [
  {
   "cell_type": "code",
   "execution_count": 121,
   "metadata": {},
   "outputs": [],
   "source": [
    "import pandas as pd\n",
    "import numpy as np\n",
    "import datetime\n",
    "import matplotlib.pyplot as plt\n",
    "\n",
    "# Make the graphs a bit prettier, and bigger\n",
    "plt.style.use('ggplot')\n",
    "plt.rcParams['figure.figsize'] = (15, 5)\n",
    "\n",
    "# This is necessary to show lots of columns in pandas 0.12. \n",
    "# Not necessary in pandas 0.13.\n",
    "pd.set_option('display.width', 5000) \n",
    "pd.set_option('display.max_columns', 60)"
   ]
  },
  {
   "cell_type": "markdown",
   "metadata": {},
   "source": [
    "# Weather data"
   ]
  },
  {
   "cell_type": "code",
   "execution_count": 39,
   "metadata": {
    "scrolled": true
   },
   "outputs": [
    {
     "name": "stderr",
     "output_type": "stream",
     "text": [
      "/usr/lib/python3/dist-packages/IPython/core/interactiveshell.py:3062: DtypeWarning: Columns (6,12,13,16,17,18,19,20,21,23,25,27) have mixed types.Specify dtype option on import or set low_memory=False.\n",
      "  has_raised = await self.run_ast_nodes(code_ast.body, cell_name,\n"
     ]
    }
   ],
   "source": [
    "data_frame = pd.read_csv(\"MATF_Hackathon_2021/BelgradeAirport_2021-2012.csv\")\n",
    "\n",
    "clean_data = pd.DataFrame()"
   ]
  },
  {
   "cell_type": "code",
   "execution_count": 42,
   "metadata": {
    "scrolled": true
   },
   "outputs": [
    {
     "data": {
      "text/plain": [
       "Index(['DateTime', 'T', 'Po', 'P', 'Pa', 'U', 'DD', 'Ff', 'ff10', 'ff3', 'N',\n",
       "       'WW', 'W1', 'W2', 'Tn', 'Tx', 'Cl', 'Nh', 'H', 'Cm', 'Ch', 'VV', 'Td',\n",
       "       'RRR', 'tR', 'E', 'Tg', 'E.', 'sss'],\n",
       "      dtype='object')"
      ]
     },
     "execution_count": 42,
     "metadata": {},
     "output_type": "execute_result"
    }
   ],
   "source": [
    "data_frame.columns"
   ]
  },
  {
   "cell_type": "code",
   "execution_count": 45,
   "metadata": {
    "scrolled": true
   },
   "outputs": [
    {
     "data": {
      "text/plain": [
       "DateTime                         2021-03-31 23:00\n",
       "T                                            11.9\n",
       "Po                                         1010.5\n",
       "P                                          1022.5\n",
       "Pa                                           -0.5\n",
       "U                                              67\n",
       "DD          Wind blowing from the north-northwest\n",
       "Ff                                              1\n",
       "ff10                                          NaN\n",
       "ff3                                           NaN\n",
       "N                                       no clouds\n",
       "WW                                               \n",
       "W1                                            NaN\n",
       "W2                                            NaN\n",
       "Tn                                            NaN\n",
       "Tx                                            NaN\n",
       "Cl                                            NaN\n",
       "Nh                                            NaN\n",
       "H                                             NaN\n",
       "Cm                                            NaN\n",
       "Ch                                            NaN\n",
       "VV                                           10.0\n",
       "Td                                            5.8\n",
       "RRR                                           NaN\n",
       "tR                                            NaN\n",
       "E                                             NaN\n",
       "Tg                                            NaN\n",
       "E.                                            NaN\n",
       "sss                                           NaN\n",
       "Name: 0, dtype: object"
      ]
     },
     "execution_count": 45,
     "metadata": {},
     "output_type": "execute_result"
    }
   ],
   "source": [
    "data_frame.iloc[0]"
   ]
  },
  {
   "cell_type": "markdown",
   "metadata": {},
   "source": [
    "### Parse DateTime"
   ]
  },
  {
   "cell_type": "code",
   "execution_count": 60,
   "metadata": {},
   "outputs": [],
   "source": [
    "def datetime2ymd(in_df, out_df):\n",
    "    out_df[\"year\"]  = in_df[\"DateTime\"].astype(str).str[:4].astype(int)\n",
    "    out_df[\"month\"] = in_df[\"DateTime\"].astype(str).str[5:7].astype(int)\n",
    "    out_df[\"day\"]   = in_df[\"DateTime\"].astype(str).str[8:10].astype(int)\n",
    "    out_df[\"hour\"]  = in_df[\"DateTime\"].astype(str).str[11:13].astype(int)\n",
    "    out_df[\"min\"]   = in_df[\"DateTime\"].astype(str).str[14:].astype(int)\n",
    "    \n",
    "    return out_df"
   ]
  },
  {
   "cell_type": "code",
   "execution_count": 61,
   "metadata": {},
   "outputs": [],
   "source": [
    "clean_data = datetime2ymd(data_frame, clean_data)"
   ]
  },
  {
   "cell_type": "code",
   "execution_count": 63,
   "metadata": {},
   "outputs": [],
   "source": [
    "copy_collumns = [\"T\", \"Po\", \"U\", \"Ff\", \"Tn\"]\n",
    "clean_data[copy_collumns] = data_frame[copy_collumns]"
   ]
  },
  {
   "cell_type": "code",
   "execution_count": 62,
   "metadata": {
    "scrolled": true
   },
   "outputs": [
    {
     "data": {
      "text/html": [
       "<div>\n",
       "<style scoped>\n",
       "    .dataframe tbody tr th:only-of-type {\n",
       "        vertical-align: middle;\n",
       "    }\n",
       "\n",
       "    .dataframe tbody tr th {\n",
       "        vertical-align: top;\n",
       "    }\n",
       "\n",
       "    .dataframe thead th {\n",
       "        text-align: right;\n",
       "    }\n",
       "</style>\n",
       "<table border=\"1\" class=\"dataframe\">\n",
       "  <thead>\n",
       "    <tr style=\"text-align: right;\">\n",
       "      <th></th>\n",
       "      <th>T</th>\n",
       "      <th>Po</th>\n",
       "      <th>U</th>\n",
       "      <th>Ff</th>\n",
       "      <th>Tn</th>\n",
       "      <th>year</th>\n",
       "      <th>month</th>\n",
       "      <th>day</th>\n",
       "      <th>hour</th>\n",
       "      <th>min</th>\n",
       "    </tr>\n",
       "  </thead>\n",
       "  <tbody>\n",
       "    <tr>\n",
       "      <th>0</th>\n",
       "      <td>11.9</td>\n",
       "      <td>1010.5</td>\n",
       "      <td>67</td>\n",
       "      <td>1.0</td>\n",
       "      <td>NaN</td>\n",
       "      <td>2021</td>\n",
       "      <td>3</td>\n",
       "      <td>31</td>\n",
       "      <td>23</td>\n",
       "      <td>0</td>\n",
       "    </tr>\n",
       "    <tr>\n",
       "      <th>1</th>\n",
       "      <td>12.9</td>\n",
       "      <td>1010.9</td>\n",
       "      <td>62</td>\n",
       "      <td>1.0</td>\n",
       "      <td>NaN</td>\n",
       "      <td>2021</td>\n",
       "      <td>3</td>\n",
       "      <td>31</td>\n",
       "      <td>22</td>\n",
       "      <td>0</td>\n",
       "    </tr>\n",
       "    <tr>\n",
       "      <th>2</th>\n",
       "      <td>14.3</td>\n",
       "      <td>1011.0</td>\n",
       "      <td>57</td>\n",
       "      <td>1.0</td>\n",
       "      <td>NaN</td>\n",
       "      <td>2021</td>\n",
       "      <td>3</td>\n",
       "      <td>31</td>\n",
       "      <td>21</td>\n",
       "      <td>0</td>\n",
       "    </tr>\n",
       "    <tr>\n",
       "      <th>3</th>\n",
       "      <td>15.3</td>\n",
       "      <td>1011.0</td>\n",
       "      <td>53</td>\n",
       "      <td>1.0</td>\n",
       "      <td>NaN</td>\n",
       "      <td>2021</td>\n",
       "      <td>3</td>\n",
       "      <td>31</td>\n",
       "      <td>20</td>\n",
       "      <td>0</td>\n",
       "    </tr>\n",
       "    <tr>\n",
       "      <th>4</th>\n",
       "      <td>17.5</td>\n",
       "      <td>1011.1</td>\n",
       "      <td>45</td>\n",
       "      <td>3.0</td>\n",
       "      <td>NaN</td>\n",
       "      <td>2021</td>\n",
       "      <td>3</td>\n",
       "      <td>31</td>\n",
       "      <td>19</td>\n",
       "      <td>0</td>\n",
       "    </tr>\n",
       "  </tbody>\n",
       "</table>\n",
       "</div>"
      ],
      "text/plain": [
       "      T      Po   U   Ff  Tn  year  month  day  hour  min\n",
       "0  11.9  1010.5  67  1.0 NaN  2021      3   31    23    0\n",
       "1  12.9  1010.9  62  1.0 NaN  2021      3   31    22    0\n",
       "2  14.3  1011.0  57  1.0 NaN  2021      3   31    21    0\n",
       "3  15.3  1011.0  53  1.0 NaN  2021      3   31    20    0\n",
       "4  17.5  1011.1  45  3.0 NaN  2021      3   31    19    0"
      ]
     },
     "execution_count": 62,
     "metadata": {},
     "output_type": "execute_result"
    }
   ],
   "source": [
    "clean_data.head()"
   ]
  },
  {
   "cell_type": "markdown",
   "metadata": {},
   "source": [
    "# Target data"
   ]
  },
  {
   "cell_type": "code",
   "execution_count": 82,
   "metadata": {
    "scrolled": false
   },
   "outputs": [
    {
     "data": {
      "text/html": [
       "<div>\n",
       "<style scoped>\n",
       "    .dataframe tbody tr th:only-of-type {\n",
       "        vertical-align: middle;\n",
       "    }\n",
       "\n",
       "    .dataframe tbody tr th {\n",
       "        vertical-align: top;\n",
       "    }\n",
       "\n",
       "    .dataframe thead th {\n",
       "        text-align: right;\n",
       "    }\n",
       "</style>\n",
       "<table border=\"1\" class=\"dataframe\">\n",
       "  <thead>\n",
       "    <tr style=\"text-align: right;\">\n",
       "      <th></th>\n",
       "      <th>DateTime</th>\n",
       "      <th>MernaStanica</th>\n",
       "      <th>B</th>\n",
       "      <th>CO</th>\n",
       "      <th>NO2</th>\n",
       "      <th>O3</th>\n",
       "      <th>PM10</th>\n",
       "      <th>PM25</th>\n",
       "      <th>SO2</th>\n",
       "    </tr>\n",
       "  </thead>\n",
       "  <tbody>\n",
       "    <tr>\n",
       "      <th>0</th>\n",
       "      <td>2012-06-11 16:00</td>\n",
       "      <td>Beograd Novi Beograd</td>\n",
       "      <td>0.269729</td>\n",
       "      <td>0.590997</td>\n",
       "      <td>63.094881</td>\n",
       "      <td>53.622829</td>\n",
       "      <td>23.109444</td>\n",
       "      <td>9.742659</td>\n",
       "      <td>2.789345</td>\n",
       "    </tr>\n",
       "    <tr>\n",
       "      <th>1</th>\n",
       "      <td>2015-03-09 08:00</td>\n",
       "      <td>Beograd Novi Beograd</td>\n",
       "      <td>2.042423</td>\n",
       "      <td>1.113447</td>\n",
       "      <td>19.640968</td>\n",
       "      <td>56.213282</td>\n",
       "      <td>26.856319</td>\n",
       "      <td>19.293327</td>\n",
       "      <td>84.947258</td>\n",
       "    </tr>\n",
       "    <tr>\n",
       "      <th>2</th>\n",
       "      <td>2010-05-19 09:00</td>\n",
       "      <td>Beograd Novi Beograd</td>\n",
       "      <td>0.778962</td>\n",
       "      <td>0.905177</td>\n",
       "      <td>26.346479</td>\n",
       "      <td>NaN</td>\n",
       "      <td>22.899085</td>\n",
       "      <td>12.057213</td>\n",
       "      <td>2.703677</td>\n",
       "    </tr>\n",
       "    <tr>\n",
       "      <th>3</th>\n",
       "      <td>2010-07-17 00:00</td>\n",
       "      <td>Beograd Novi Beograd</td>\n",
       "      <td>0.686226</td>\n",
       "      <td>0.994739</td>\n",
       "      <td>31.578526</td>\n",
       "      <td>44.185095</td>\n",
       "      <td>29.241251</td>\n",
       "      <td>22.910294</td>\n",
       "      <td>8.567367</td>\n",
       "    </tr>\n",
       "    <tr>\n",
       "      <th>4</th>\n",
       "      <td>2018-05-01 00:00</td>\n",
       "      <td>Beograd Novi Beograd</td>\n",
       "      <td>NaN</td>\n",
       "      <td>0.250000</td>\n",
       "      <td>NaN</td>\n",
       "      <td>43.600000</td>\n",
       "      <td>NaN</td>\n",
       "      <td>NaN</td>\n",
       "      <td>12.900000</td>\n",
       "    </tr>\n",
       "  </tbody>\n",
       "</table>\n",
       "</div>"
      ],
      "text/plain": [
       "           DateTime          MernaStanica         B        CO        NO2  \\\n",
       "0  2012-06-11 16:00  Beograd Novi Beograd  0.269729  0.590997  63.094881   \n",
       "1  2015-03-09 08:00  Beograd Novi Beograd  2.042423  1.113447  19.640968   \n",
       "2  2010-05-19 09:00  Beograd Novi Beograd  0.778962  0.905177  26.346479   \n",
       "3  2010-07-17 00:00  Beograd Novi Beograd  0.686226  0.994739  31.578526   \n",
       "4  2018-05-01 00:00  Beograd Novi Beograd       NaN  0.250000        NaN   \n",
       "\n",
       "          O3       PM10       PM25        SO2  \n",
       "0  53.622829  23.109444   9.742659   2.789345  \n",
       "1  56.213282  26.856319  19.293327  84.947258  \n",
       "2        NaN  22.899085  12.057213   2.703677  \n",
       "3  44.185095  29.241251  22.910294   8.567367  \n",
       "4  43.600000        NaN        NaN  12.900000  "
      ]
     },
     "execution_count": 82,
     "metadata": {},
     "output_type": "execute_result"
    }
   ],
   "source": [
    "target_df = pd.read_csv(\"MATF_Hackathon_2021/SviPodaci_mStanica_BeogradNBG.csv\")\n",
    "clean_target = pd.DataFrame()\n",
    "\n",
    "target_df = target_df.rename(columns={\"Datum_i_Vreme\": \"DateTime\"})\n",
    "\n",
    "target_df.head()"
   ]
  },
  {
   "cell_type": "code",
   "execution_count": 99,
   "metadata": {
    "scrolled": true
   },
   "outputs": [
    {
     "data": {
      "text/html": [
       "<div>\n",
       "<style scoped>\n",
       "    .dataframe tbody tr th:only-of-type {\n",
       "        vertical-align: middle;\n",
       "    }\n",
       "\n",
       "    .dataframe tbody tr th {\n",
       "        vertical-align: top;\n",
       "    }\n",
       "\n",
       "    .dataframe thead th {\n",
       "        text-align: right;\n",
       "    }\n",
       "</style>\n",
       "<table border=\"1\" class=\"dataframe\">\n",
       "  <thead>\n",
       "    <tr style=\"text-align: right;\">\n",
       "      <th></th>\n",
       "      <th>year</th>\n",
       "      <th>month</th>\n",
       "      <th>day</th>\n",
       "      <th>hour</th>\n",
       "      <th>min</th>\n",
       "      <th>B</th>\n",
       "      <th>CO</th>\n",
       "      <th>NO2</th>\n",
       "      <th>O3</th>\n",
       "      <th>PM10</th>\n",
       "      <th>PM25</th>\n",
       "      <th>SO2</th>\n",
       "    </tr>\n",
       "  </thead>\n",
       "  <tbody>\n",
       "    <tr>\n",
       "      <th>23026</th>\n",
       "      <td>2009</td>\n",
       "      <td>11</td>\n",
       "      <td>17</td>\n",
       "      <td>20</td>\n",
       "      <td>0</td>\n",
       "      <td>NaN</td>\n",
       "      <td>NaN</td>\n",
       "      <td>NaN</td>\n",
       "      <td>NaN</td>\n",
       "      <td>NaN</td>\n",
       "      <td>54.221211</td>\n",
       "      <td>NaN</td>\n",
       "    </tr>\n",
       "    <tr>\n",
       "      <th>28045</th>\n",
       "      <td>2009</td>\n",
       "      <td>11</td>\n",
       "      <td>17</td>\n",
       "      <td>21</td>\n",
       "      <td>0</td>\n",
       "      <td>NaN</td>\n",
       "      <td>NaN</td>\n",
       "      <td>NaN</td>\n",
       "      <td>NaN</td>\n",
       "      <td>NaN</td>\n",
       "      <td>61.848214</td>\n",
       "      <td>NaN</td>\n",
       "    </tr>\n",
       "    <tr>\n",
       "      <th>52868</th>\n",
       "      <td>2009</td>\n",
       "      <td>11</td>\n",
       "      <td>17</td>\n",
       "      <td>22</td>\n",
       "      <td>0</td>\n",
       "      <td>NaN</td>\n",
       "      <td>NaN</td>\n",
       "      <td>NaN</td>\n",
       "      <td>NaN</td>\n",
       "      <td>NaN</td>\n",
       "      <td>47.386997</td>\n",
       "      <td>NaN</td>\n",
       "    </tr>\n",
       "    <tr>\n",
       "      <th>68772</th>\n",
       "      <td>2009</td>\n",
       "      <td>11</td>\n",
       "      <td>17</td>\n",
       "      <td>23</td>\n",
       "      <td>0</td>\n",
       "      <td>NaN</td>\n",
       "      <td>NaN</td>\n",
       "      <td>NaN</td>\n",
       "      <td>NaN</td>\n",
       "      <td>NaN</td>\n",
       "      <td>42.317648</td>\n",
       "      <td>NaN</td>\n",
       "    </tr>\n",
       "    <tr>\n",
       "      <th>41525</th>\n",
       "      <td>2009</td>\n",
       "      <td>11</td>\n",
       "      <td>18</td>\n",
       "      <td>0</td>\n",
       "      <td>0</td>\n",
       "      <td>NaN</td>\n",
       "      <td>NaN</td>\n",
       "      <td>NaN</td>\n",
       "      <td>NaN</td>\n",
       "      <td>NaN</td>\n",
       "      <td>41.457331</td>\n",
       "      <td>NaN</td>\n",
       "    </tr>\n",
       "  </tbody>\n",
       "</table>\n",
       "</div>"
      ],
      "text/plain": [
       "       year  month  day  hour  min   B  CO  NO2  O3  PM10       PM25  SO2\n",
       "23026  2009     11   17    20    0 NaN NaN  NaN NaN   NaN  54.221211  NaN\n",
       "28045  2009     11   17    21    0 NaN NaN  NaN NaN   NaN  61.848214  NaN\n",
       "52868  2009     11   17    22    0 NaN NaN  NaN NaN   NaN  47.386997  NaN\n",
       "68772  2009     11   17    23    0 NaN NaN  NaN NaN   NaN  42.317648  NaN\n",
       "41525  2009     11   18     0    0 NaN NaN  NaN NaN   NaN  41.457331  NaN"
      ]
     },
     "execution_count": 99,
     "metadata": {},
     "output_type": "execute_result"
    }
   ],
   "source": [
    "clean_target = datetime2ymd(target_df, clean_target)\n",
    "copy_columns = [\"B\", \"CO\", \"NO2\", \"O3\", \"PM10\", \"PM25\", \"SO2\"]\n",
    "\n",
    "clean_target[copy_columns] = target_df[copy_columns]\n",
    "clean_target = clean_target.sort_values(by=[\"year\", \"month\", \"day\", \"hour\", \"min\"])\n",
    "\n",
    "clean_target.head()"
   ]
  },
  {
   "cell_type": "code",
   "execution_count": 180,
   "metadata": {},
   "outputs": [
    {
     "data": {
      "text/plain": [
       "[<matplotlib.lines.Line2D at 0x7fb36304f4c0>]"
      ]
     },
     "execution_count": 180,
     "metadata": {},
     "output_type": "execute_result"
    },
    {
     "data": {
      "image/png": "[encoded data removed]",
      "text/plain": [
       "<Figure size 1080x360 with 1 Axes>"
      ]
     },
     "metadata": {},
     "output_type": "display_data"
    }
   ],
   "source": [
    "month = clean_target.loc[\n",
    "    (clean_data[\"year\"].isin([2019, 2020])) &\n",
    "    (clean_data[\"month\"].isin([10, 11, 12]))\n",
    "]\n",
    "\n",
    "hours = []\n",
    "for hour in range(24):\n",
    "    hours.append(month.loc[month[\"hour\"] == hour].mean()[\"SO2\"])\n",
    "    \n",
    "plt.plot(hours)"
   ]
  },
  {
   "cell_type": "code",
   "execution_count": null,
   "metadata": {},
   "outputs": [],
   "source": []
  }
 ],
 "metadata": {
  "kernelspec": {
   "display_name": "Python 3",
   "language": "python",
   "name": "python3"
  },
  "language_info": {
   "codemirror_mode": {
    "name": "ipython",
    "version": 3
   },
   "file_extension": ".py",
   "mimetype": "text/x-python",
   "name": "python",
   "nbconvert_exporter": "python",
   "pygments_lexer": "ipython3",
   "version": "3.8.5"
  }
 },
 "nbformat": 4,
 "nbformat_minor": 4
}
